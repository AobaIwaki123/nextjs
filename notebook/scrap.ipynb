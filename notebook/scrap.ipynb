{
 "cells": [
  {
   "cell_type": "code",
   "execution_count": 4,
   "metadata": {},
   "outputs": [
    {
     "name": "stdout",
     "output_type": "stream",
     "text": [
      "JSONファイル 'nogizaka.json' に変換完了しました。\n",
      "JSONファイル 'hinatazaka.json' に変換完了しました。\n"
     ]
    }
   ],
   "source": [
    "from notebook.scrape_member_name import get_json_from_html\n",
    "from pathlib import Path\n",
    "\n",
    "\n",
    "html_pathes = Path(\"html\").glob(\"*.html\")\n",
    "\n",
    "for path in html_pathes:\n",
    "    name = path.name.split(\".\")[0]\n",
    "    get_json_from_html(path, name)"
   ]
  },
  {
   "cell_type": "code",
   "execution_count": null,
   "metadata": {},
   "outputs": [],
   "source": []
  }
 ],
 "metadata": {
  "kernelspec": {
   "display_name": "default312",
   "language": "python",
   "name": "python3"
  },
  "language_info": {
   "codemirror_mode": {
    "name": "ipython",
    "version": 3
   },
   "file_extension": ".py",
   "mimetype": "text/x-python",
   "name": "python",
   "nbconvert_exporter": "python",
   "pygments_lexer": "ipython3",
   "version": "3.12.2"
  }
 },
 "nbformat": 4,
 "nbformat_minor": 2
}
