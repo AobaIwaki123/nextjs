{
 "cells": [
  {
   "cell_type": "code",
   "execution_count": 10,
   "metadata": {},
   "outputs": [
    {
     "name": "stdout",
     "output_type": "stream",
     "text": [
      "html/sakurazaka.html\n",
      "JSON data has been saved to json/sakurazaka.json\n",
      "html/hinatazaka.html\n",
      "JSON data has been saved to json/hinatazaka.json\n",
      "html/nogizaka.html\n",
      "JSON data has been saved to json/nogizaka.json\n",
      "html/fruits_zipper.html\n",
      "JSON data has been saved to json/fruits_zipper.json\n"
     ]
    }
   ],
   "source": [
    "from notebook.get_html import get_html\n",
    "from notebook.html_to_json import html_to_json\n",
    "from pathlib import Path\n",
    "import json\n",
    "\n",
    "# Path to the JSON file\n",
    "json_path = Path(\"notebook/urls.json\")\n",
    "\n",
    "# Read the JSON file\n",
    "with open(json_path, \"r\", encoding=\"utf-8\") as file:\n",
    "    data = json.load(file)\n",
    "\n",
    "for d in data:\n",
    "    # URL of the Wikipedia page\n",
    "    url = d[\"url\"]\n",
    "    name = d[\"name\"]\n",
    "\n",
    "    out_path = get_html(url, Path(\"html\"), name)\n",
    "    print(out_path)\n",
    "    html_to_json(out_path, Path(\"json\"), name)"
   ]
  },
  {
   "cell_type": "code",
   "execution_count": 8,
   "metadata": {},
   "outputs": [
    {
     "name": "stdout",
     "output_type": "stream",
     "text": [
      "https://ja.wikipedia.org/wiki/%E6%AB%BB%E5%9D%8246\n",
      "https://ja.wikipedia.org/wiki/%E6%97%A5%E5%90%91%E5%9D%8246\n"
     ]
    }
   ],
   "source": [
    "import json\n",
    "from pathlib import Path\n",
    "\n",
    "# Path to the JSON file\n",
    "json_path = Path(\"notebook/urls.json\")\n",
    "\n",
    "# Read the JSON file\n",
    "with open(json_path, 'r', encoding='utf-8') as file:\n",
    "    data = json.load(file)\n",
    "\n",
    "for d in data:\n",
    "    print(d[\"url\"])"
   ]
  }
 ],
 "metadata": {
  "kernelspec": {
   "display_name": "default312",
   "language": "python",
   "name": "python3"
  },
  "language_info": {
   "codemirror_mode": {
    "name": "ipython",
    "version": 3
   },
   "file_extension": ".py",
   "mimetype": "text/x-python",
   "name": "python",
   "nbconvert_exporter": "python",
   "pygments_lexer": "ipython3",
   "version": "3.12.2"
  }
 },
 "nbformat": 4,
 "nbformat_minor": 2
}
